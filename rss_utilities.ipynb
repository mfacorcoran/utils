{
 "cells": [
  {
   "cell_type": "code",
   "execution_count": 2,
   "metadata": {
    "collapsed": true
   },
   "outputs": [
    {
     "name": "stdout",
     "output_type": "stream",
     "text": [
      "Number of items = 722\nNumber of rssitems: 722 DOES NOT MATCH Number of Unique items: 721\nDuplicates FOUND\n"
     ]
    }
   ],
   "source": [
    "import requests\n",
    "from bs4 import BeautifulSoup\n",
    "rssurl = \"http://heasarcdev.gsfc.nasa.gov/docs/heasarc/astro-update/astro-update_duptest.rss\"\n",
    "rss = requests.get(rssurl)\n",
    "rss_soup = BeautifulSoup(rss.text, 'lxml')\n",
    "#print (rss_soup.prettify())\n",
    "rssitems = rss_soup.find_all('item')\n",
    "print(\"Number of items = {0}\".format(len(rssitems)))\n",
    "unique_items = set(rssitems)\n",
    "if len(rssitems)<> len(unique_items):\n",
    "    print \"Number of rssitems: {0} DOES NOT MATCH Number of Unique items: {1}\".format(len(rssitems),len(unique_items))\n",
    "    print \"Duplicates FOUND\""
   ]
  },
  {
   "cell_type": "code",
   "execution_count": 43,
   "metadata": {},
   "outputs": [
    {
     "data": {
      "text/plain": [
       "722"
      ]
     },
     "execution_count": 43,
     "metadata": {},
     "output_type": "execute_result"
    }
   ],
   "source": [
    "len(rssitems)"
   ]
  },
  {
   "cell_type": "code",
   "execution_count": 15,
   "metadata": {},
   "outputs": [
    {
     "data": {
      "text/plain": [
       "523"
      ]
     },
     "execution_count": 15,
     "metadata": {},
     "output_type": "execute_result"
    }
   ],
   "source": [
    "rss.text.index('<item>')"
   ]
  },
  {
   "cell_type": "code",
   "execution_count": 10,
   "metadata": {},
   "outputs": [],
   "source": [
    "s1=rss.text[:523]"
   ]
  },
  {
   "cell_type": "code",
   "execution_count": 51,
   "metadata": {},
   "outputs": [],
   "source": [
    "def f5(seq, idfun=None):\n",
    "    \"\"\"\n",
    "    From https://www.peterbe.com/plog/uniqifiers-benchmark\n",
    "    This is the fastest uniquifier, order preserving\n",
    "    @param seq:\n",
    "    @param idfun:\n",
    "    @return:\n",
    "    \"\"\"\n",
    "    if idfun is None:\n",
    "        def idfun(x):\n",
    "            return x\n",
    "    seen = {}\n",
    "    result = []\n",
    "    for item in seq:\n",
    "        marker = idfun(item)\n",
    "        # in old Python versions:\n",
    "        # if seen.has_key(marker)\n",
    "        # but in new ones:\n",
    "        if marker in seen:\n",
    "            continue\n",
    "        seen[marker] = 1\n",
    "        result.append(item)\n",
    "        return result\n",
    "    \n",
    "def f2(seq):\n",
    "    # order preserving\n",
    "    checked = []\n",
    "    for e in seq:\n",
    "        if e not in checked:\n",
    "            checked.append(e)\n",
    "    return checked"
   ]
  },
  {
   "cell_type": "code",
   "execution_count": 46,
   "metadata": {},
   "outputs": [
    {
     "data": {
      "text/plain": [
       "722"
      ]
     },
     "execution_count": 46,
     "metadata": {},
     "output_type": "execute_result"
    }
   ],
   "source": [
    "len(rssitems)"
   ]
  },
  {
   "cell_type": "code",
   "execution_count": null,
   "metadata": {},
   "outputs": [],
   "source": [
    "a=[1,2,3,1,2,1]"
   ]
  },
  {
   "cell_type": "code",
   "execution_count": 53,
   "metadata": {},
   "outputs": [],
   "source": [
    "llu = f2(rssitems)"
   ]
  },
  {
   "cell_type": "code",
   "execution_count": null,
   "metadata": {},
   "outputs": [],
   "source": [
    "len(llu)"
   ]
  },
  {
   "cell_type": "code",
   "execution_count": null,
   "outputs": [],
   "source": [
    ""
   ]
  }
 ],
 "metadata": {
  "kernelspec": {
   "display_name": "Python 2",
   "language": "python",
   "name": "python2"
  },
  "language_info": {
   "codemirror_mode": {
    "name": "ipython",
    "version": 2.0
   },
   "file_extension": ".py",
   "mimetype": "text/x-python",
   "name": "python",
   "nbconvert_exporter": "python",
   "pygments_lexer": "ipython2",
   "version": "2.7.6"
  }
 },
 "nbformat": 4,
 "nbformat_minor": 0
}
